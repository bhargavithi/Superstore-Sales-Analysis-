{
  "nbformat": 4,
  "nbformat_minor": 0,
  "metadata": {
    "colab": {
      "provenance": []
    },
    "kernelspec": {
      "name": "python3",
      "display_name": "Python 3"
    },
    "language_info": {
      "name": "python"
    }
  },
  "cells": [
    {
      "cell_type": "code",
      "execution_count": 8,
      "metadata": {
        "id": "7movOeqyWnfy"
      },
      "outputs": [],
      "source": [
        "import pandas as pd\n",
        "\n",
        "# Load the file\n",
        "df = pd.read_csv(\"Sample - Superstore.csv\", encoding='ISO-8859-1', sep=',')\n",
        "\n",
        "# 1. Identify missing values\n",
        "missing_values = df.isnull().sum()\n",
        "\n",
        "# 2. Drop duplicates\n",
        "df = df.drop_duplicates()\n",
        "\n",
        "# 3. Standardize text fields (example: 'State' column)\n",
        "df['State'] = df['State'].str.title().str.strip()\n",
        "\n",
        "# 4. Convert date format (assuming 'Order Date' and 'Ship Date' are in the dataset)\n",
        "df['Order Date'] = pd.to_datetime(df['Order Date'], errors='coerce')\n",
        "df['Ship Date'] = pd.to_datetime(df['Ship Date'], errors='coerce')\n",
        "\n",
        "# 5. Rename columns to lowercase with underscores\n",
        "df.columns = df.columns.str.strip().str.lower().str.replace(' ', '_')\n",
        "\n",
        "# 6. Check and fix data types (example: 'Postal Code' should be int or string)\n",
        "if 'postal_code' in df.columns:\n",
        "    df['postal_code'] = pd.to_numeric(df['postal_code'], errors='coerce')\n",
        "\n",
        "# Save cleaned file\n",
        "df.to_csv(\"cleaned_superstore.csv\", index=False)"
      ]
    }
  ]
}